{
 "cells": [
  {
   "cell_type": "markdown",
   "metadata": {},
   "source": [
    "sets are very important, and sets are underused in python\n",
    "there are two types of sets, set and frozenset\n",
    "set is not hashable, but frozenset is hashable\n",
    "set should contain hashable elements"
   ]
  },
  {
   "cell_type": "code",
   "execution_count": 1,
   "metadata": {},
   "outputs": [
    {
     "data": {
      "text/plain": [
       "set"
      ]
     },
     "execution_count": 1,
     "metadata": {},
     "output_type": "execute_result"
    }
   ],
   "source": [
    "# declaring set using literal\n",
    "s = {1,2}\n",
    "type(s)"
   ]
  },
  {
   "cell_type": "code",
   "execution_count": 2,
   "metadata": {},
   "outputs": [
    {
     "data": {
      "text/plain": [
       "dict"
      ]
     },
     "execution_count": 2,
     "metadata": {},
     "output_type": "execute_result"
    }
   ],
   "source": [
    "s = {}\n",
    "type(s)"
   ]
  },
  {
   "cell_type": "code",
   "execution_count": 4,
   "metadata": {},
   "outputs": [
    {
     "data": {
      "text/plain": [
       "set()"
      ]
     },
     "execution_count": 4,
     "metadata": {},
     "output_type": "execute_result"
    }
   ],
   "source": [
    "# form above example, it is clear we cannot create empty set using literal\n",
    "# empty set can be created using set, which is in builtins\n",
    "s = set()\n",
    "s"
   ]
  },
  {
   "cell_type": "code",
   "execution_count": 6,
   "metadata": {},
   "outputs": [
    {
     "ename": "TypeError",
     "evalue": "unhashable type: 'list'",
     "output_type": "error",
     "traceback": [
      "\u001b[1;31m---------------------------------------------------------------------------\u001b[0m",
      "\u001b[1;31mTypeError\u001b[0m                                 Traceback (most recent call last)",
      "\u001b[1;32m<ipython-input-6-19aece915b12>\u001b[0m in \u001b[0;36m<module>\u001b[1;34m()\u001b[0m\n\u001b[0;32m      1\u001b[0m \u001b[1;31m#set should contain hashable elements\u001b[0m\u001b[1;33m\u001b[0m\u001b[1;33m\u001b[0m\u001b[0m\n\u001b[1;32m----> 2\u001b[1;33m \u001b[0ms\u001b[0m \u001b[1;33m=\u001b[0m \u001b[1;33m{\u001b[0m\u001b[1;33m[\u001b[0m\u001b[1;36m1\u001b[0m\u001b[1;33m,\u001b[0m\u001b[1;36m2\u001b[0m\u001b[1;33m]\u001b[0m\u001b[1;33m,\u001b[0m\u001b[1;36m2\u001b[0m\u001b[1;33m}\u001b[0m\u001b[1;33m\u001b[0m\u001b[0m\n\u001b[0m",
      "\u001b[1;31mTypeError\u001b[0m: unhashable type: 'list'"
     ]
    }
   ],
   "source": [
    "#set should contain hashable elements\n",
    "s = {[1,2],2}"
   ]
  },
  {
   "cell_type": "code",
   "execution_count": 7,
   "metadata": {},
   "outputs": [
    {
     "name": "stdout",
     "output_type": "stream",
     "text": [
      "2\n",
      "2\n",
      "2\n"
     ]
    }
   ],
   "source": [
    "#lets write pythonic code\n",
    "# given a list of words dictionary, and list of words and return number of words in dictionary\n",
    "dictionary = [\"vikram\",\"and\", \"the\", \"python\", \"interesting\"]\n",
    "words = [\"vikram\",\"python\", \"javascript\"]\n",
    "#non pythonic code\n",
    "count = 0\n",
    "for w in words:\n",
    "    for d in dictionary:\n",
    "        if w == d:\n",
    "            count+=1\n",
    "print(count)\n",
    "# parial pythonic code\n",
    "count = 0\n",
    "for w in words:\n",
    "    if w in dictionary:\n",
    "        count+=1\n",
    "print(count)\n",
    "#pythonic code\n",
    "count = len(set(dictionary) & set(words))\n",
    "print(count)"
   ]
  },
  {
   "cell_type": "code",
   "execution_count": 8,
   "metadata": {
    "collapsed": true
   },
   "outputs": [],
   "source": [
    "#Important Notes\n",
    "#sets build using literals are faster than the sets build using constructor\n",
    "s = {1,2,3}\n",
    "s = set([1,2,3])\n",
    "# because using contrcutor first it has to find constructor and it has to build list 1,2,3 and then it will build set so sets \n",
    "# built using literals are faster than sets build using constructor"
   ]
  },
  {
   "cell_type": "code",
   "execution_count": 9,
   "metadata": {},
   "outputs": [
    {
     "data": {
      "text/plain": [
       "frozenset({1, 2, 3})"
      ]
     },
     "execution_count": 9,
     "metadata": {},
     "output_type": "execute_result"
    }
   ],
   "source": [
    "frozenset([1,2,3])"
   ]
  },
  {
   "cell_type": "code",
   "execution_count": 11,
   "metadata": {},
   "outputs": [
    {
     "name": "stdout",
     "output_type": "stream",
     "text": [
      "{0, 1, 2, 3, 4}\n"
     ]
    }
   ],
   "source": [
    "##################### Set comprehensions ##########################\n",
    "comprehension = {i for i in range(5)}\n",
    "type(comprehension)\n",
    "print(comprehension)"
   ]
  },
  {
   "cell_type": "code",
   "execution_count": 12,
   "metadata": {
    "collapsed": true
   },
   "outputs": [],
   "source": [
    "########## Note #######################\n",
    "#For infix operator both need to be sets\n",
    "#but for a.union(b, c, d)\n",
    "#a just need to be set and b, c, d can be any iterables"
   ]
  },
  {
   "cell_type": "code",
   "execution_count": 17,
   "metadata": {},
   "outputs": [
    {
     "name": "stdout",
     "output_type": "stream",
     "text": [
      "2043327718568\n",
      "2043327718344\n",
      "2043327718344\n"
     ]
    }
   ],
   "source": [
    "# __and__ & intersection\n",
    "# __iand__ =& intersection_update (inplace)\n",
    "# __or__ | union \n",
    "# __ior__ =| update (inplace)\n",
    "# __sub__ - difference \n",
    "# __isub__ -= difference_update\n",
    "# __xor__ ^ symmentric_difference (the complement of intersection s & z)\n",
    "#__ixor__ ^= symmentric_difference_update\n",
    "a = {1,2,3}\n",
    "b = {2,3,5,6}\n",
    "c = a&b\n",
    "print(id(c))\n",
    "print(id(a))\n",
    "a &= b\n",
    "print(id(a))\n"
   ]
  },
  {
   "cell_type": "code",
   "execution_count": 18,
   "metadata": {
    "collapsed": true
   },
   "outputs": [],
   "source": [
    "######################### set comparision operators\n",
    "# __lt__ <  (proper subset)\n",
    "# __le__ <= s.issubset(z) \n",
    "# __gt__ > (proper super set)\n",
    "# __ge__ >= s.issuperset(z)\n",
    "# s.isdisjoin(z) check whether s is disjoint of set z"
   ]
  },
  {
   "cell_type": "code",
   "execution_count": null,
   "metadata": {
    "collapsed": true
   },
   "outputs": [],
   "source": [
    "############### set methods #########################\n",
    "s.add(e) #will add a element to set\n",
    "s.remove(e) #will remove e from set s, if e not exists it will raise KeyError\n",
    "s.copy() # it will do a shollow copy and returns a new set\n",
    "s.discard(e) #it will remove element from set s\n",
    "s.pop() # will remove a item from set s"
   ]
  },
  {
   "cell_type": "code",
   "execution_count": null,
   "metadata": {
    "collapsed": true
   },
   "outputs": [],
   "source": [
    "key in dict, set must be hashable\n",
    "by default every class object is hashable that is id(ele) is hash value\n",
    "if we are ovveriding __eq__ method please ovveride the __hash__ method as well\n",
    "__hash__ should not change value over its life time\n",
    "\n",
    "if two elements are equal their hash values should also equal\n",
    "\n",
    "if equal depends on mutable properties of object, then it is good to raise Not Hashable Exception"
   ]
  },
  {
   "cell_type": "code",
   "execution_count": 24,
   "metadata": {
    "collapsed": true
   },
   "outputs": [],
   "source": [
    "d = {'1':'One', '2':'TWO', '3':'Three'}\n",
    "k = d.keys()\n",
    "v = d.values()\n",
    "items = d.items()"
   ]
  },
  {
   "cell_type": "code",
   "execution_count": 25,
   "metadata": {},
   "outputs": [
    {
     "name": "stdout",
     "output_type": "stream",
     "text": [
      "dict_keys(['1', '2', '3'])\n",
      "dict_values(['One', 'TWO', 'Three'])\n",
      "dict_items([('1', 'One'), ('2', 'TWO'), ('3', 'Three')])\n"
     ]
    }
   ],
   "source": [
    "print(k)\n",
    "print(v)\n",
    "print(items)"
   ]
  },
  {
   "cell_type": "code",
   "execution_count": 27,
   "metadata": {},
   "outputs": [
    {
     "name": "stdout",
     "output_type": "stream",
     "text": [
      "dict_keys(['1', '2', '3', '4'])\n",
      "dict_values(['One', 'TWO', 'Three', 'Four'])\n",
      "dict_items([('1', 'One'), ('2', 'TWO'), ('3', 'Three'), ('4', 'Four')])\n"
     ]
    }
   ],
   "source": [
    "d['4'] = 'Four'\n",
    "print(k)\n",
    "print(v)\n",
    "print(items)"
   ]
  },
  {
   "cell_type": "code",
   "execution_count": 28,
   "metadata": {},
   "outputs": [
    {
     "data": {
      "text/plain": [
       "'\\ntill python 2 when you .keys(), .values(), .items() method will return list\\nNow, in python 3 it will return a view, which is similar like set, if we change the\\ndict, this views will update automatically\\n'"
      ]
     },
     "execution_count": 28,
     "metadata": {},
     "output_type": "execute_result"
    }
   ],
   "source": [
    "'''\n",
    "till python 2 when you .keys(), .values(), .items() method will return list\n",
    "Now, in python 3 it will return a view, which is similar like set, if we change the\n",
    "dict, this views will update automatically\n",
    "'''"
   ]
  },
  {
   "cell_type": "code",
   "execution_count": null,
   "metadata": {
    "collapsed": true
   },
   "outputs": [],
   "source": []
  }
 ],
 "metadata": {
  "kernelspec": {
   "display_name": "Python 3",
   "language": "python",
   "name": "python3"
  },
  "language_info": {
   "codemirror_mode": {
    "name": "ipython",
    "version": 3
   },
   "file_extension": ".py",
   "mimetype": "text/x-python",
   "name": "python",
   "nbconvert_exporter": "python",
   "pygments_lexer": "ipython3",
   "version": "3.6.1"
  }
 },
 "nbformat": 4,
 "nbformat_minor": 2
}
