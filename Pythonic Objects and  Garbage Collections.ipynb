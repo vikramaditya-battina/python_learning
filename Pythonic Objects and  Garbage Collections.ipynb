{
 "cells": [
  {
   "cell_type": "code",
   "execution_count": 1,
   "metadata": {
    "collapsed": true
   },
   "outputs": [],
   "source": [
    "# now we will discuss between is and == equal in python"
   ]
  },
  {
   "cell_type": "code",
   "execution_count": 3,
   "metadata": {},
   "outputs": [
    {
     "data": {
      "text/plain": [
       "True"
      ]
     },
     "execution_count": 3,
     "metadata": {},
     "output_type": "execute_result"
    }
   ],
   "source": [
    "a = [1,2,3,[5,6]]\n",
    "b = [1,2,3,[5,6]]\n",
    "a == b #it will check the contents of a and b"
   ]
  },
  {
   "cell_type": "code",
   "execution_count": 4,
   "metadata": {},
   "outputs": [
    {
     "data": {
      "text/plain": [
       "False"
      ]
     },
     "execution_count": 4,
     "metadata": {},
     "output_type": "execute_result"
    }
   ],
   "source": [
    "a is b # this will check identity of a and b "
   ]
  },
  {
   "cell_type": "code",
   "execution_count": 6,
   "metadata": {},
   "outputs": [
    {
     "name": "stdout",
     "output_type": "stream",
     "text": [
      "2400572234696\n",
      "2400572235528\n"
     ]
    }
   ],
   "source": [
    "print(id(a))\n",
    "print(id(b))\n",
    "#identties of two objects are different"
   ]
  },
  {
   "cell_type": "code",
   "execution_count": 7,
   "metadata": {
    "collapsed": true
   },
   "outputs": [],
   "source": [
    "# in CPython identity of id(ob) is memory address of the object"
   ]
  },
  {
   "cell_type": "code",
   "execution_count": 8,
   "metadata": {},
   "outputs": [
    {
     "name": "stdout",
     "output_type": "stream",
     "text": [
      "2400572235528\n",
      "2400572235528\n"
     ]
    },
    {
     "data": {
      "text/plain": [
       "True"
      ]
     },
     "execution_count": 8,
     "metadata": {},
     "output_type": "execute_result"
    }
   ],
   "source": [
    "c = b\n",
    "print(id(c))\n",
    "print(id(b))\n",
    "c is b"
   ]
  },
  {
   "cell_type": "raw",
   "metadata": {},
   "source": [
    "# =================>>>>>>>>>>>>>>>>>>>>>> shallow copy <<<<<<<<<<<<<<<================================"
   ]
  },
  {
   "cell_type": "code",
   "execution_count": 52,
   "metadata": {},
   "outputs": [
    {
     "name": "stdout",
     "output_type": "stream",
     "text": [
      "2400573737800\n",
      "2400573737800\n"
     ]
    }
   ],
   "source": [
    "l_1 = [1,2,3,[1,2,3]]\n",
    "l_2 = list(l_1)\n",
    "print(id(l_1[-1]))\n",
    "print(id(l_2[-1]))\n",
    "#this did a shallow copy of objects"
   ]
  },
  {
   "cell_type": "code",
   "execution_count": 53,
   "metadata": {},
   "outputs": [
    {
     "name": "stdout",
     "output_type": "stream",
     "text": [
      "2400573737800\n"
     ]
    }
   ],
   "source": [
    "l_3 = l_1[:] #this will also do shallow copy\n",
    "print(id(l_3[-1]))"
   ]
  },
  {
   "cell_type": "raw",
   "metadata": {},
   "source": [
    "# =======================>>>>>>>> copy module <<<<<<<========================================="
   ]
  },
  {
   "cell_type": "code",
   "execution_count": 14,
   "metadata": {},
   "outputs": [],
   "source": [
    "from copy import deepcopy, copy\n",
    "l1 = [1,2,3,[1,2,3]]\n",
    "l2 = copy(l1)\n",
    "l3 = deepcopy(l2)"
   ]
  },
  {
   "cell_type": "code",
   "execution_count": 16,
   "metadata": {},
   "outputs": [
    {
     "name": "stdout",
     "output_type": "stream",
     "text": [
      "2400573334664\n",
      "2400573334664\n",
      "2400572231944\n"
     ]
    }
   ],
   "source": [
    "print(id(l1[-1]))\n",
    "print(id(l2[-1]))\n",
    "print(id(l3[-1])) #referece change observe it"
   ]
  },
  {
   "cell_type": "code",
   "execution_count": 18,
   "metadata": {},
   "outputs": [],
   "source": [
    "# if you want custome thing you need to implement __copy__, __deepcopy__ methods in your implementation"
   ]
  },
  {
   "cell_type": "raw",
   "metadata": {},
   "source": [
    "=============>>>>>>>> Mutable types as parameter defaults: bad idea <<<<<<<<<<<<==================="
   ]
  },
  {
   "cell_type": "code",
   "execution_count": 24,
   "metadata": {},
   "outputs": [
    {
     "name": "stdout",
     "output_type": "stream",
     "text": [
      "[4]\n",
      "[5]\n",
      "[5, 6]\n"
     ]
    }
   ],
   "source": [
    "def f1(value,a=[]):\n",
    "    a.append(value)\n",
    "    return a\n",
    "l1 = []\n",
    "print(f1(4,l1))\n",
    "print(f1(5)) #expected [5] will get excepted\n",
    "print(f1(6)) #expected [6] but we will get [5,6] because problem of mutalbe argument as default argmuments"
   ]
  },
  {
   "cell_type": "raw",
   "metadata": {},
   "source": [
    "========================>>>>>>>>>>> del and garbage collection <<<<<<<<<========================="
   ]
  },
  {
   "cell_type": "raw",
   "metadata": {},
   "source": [
    "Basic implementation of the grabage collection is reference count algorithm, which count number of references to an object,\n",
    "when reference goes down to zero, object will grabage collected, but problem with this approach if there are cyclic dependicies\n",
    "it will not garbage collected, so now a days most programming languages will use high level variant of reference count algorithm\n",
    "which will detect cyclic dependency as well"
   ]
  },
  {
   "cell_type": "code",
   "execution_count": 25,
   "metadata": {
    "collapsed": true
   },
   "outputs": [],
   "source": [
    "                      #understanding del keywork\n",
    "# del keyword doesnot delete object it will just remove that reference\n",
    "# __del__ method will be called when an object is about to garbage collected just like finalize in java"
   ]
  },
  {
   "cell_type": "code",
   "execution_count": 26,
   "metadata": {
    "collapsed": true
   },
   "outputs": [],
   "source": [
    "class Test:\n",
    "    def __init__(self,name):\n",
    "        self.name = name\n",
    "        pass\n",
    "    def __del__(self):\n",
    "        print(\"Test instance \"+self.name+\" is getting garbage collected..\")\n"
   ]
  },
  {
   "cell_type": "code",
   "execution_count": 28,
   "metadata": {},
   "outputs": [],
   "source": [
    "a = Test(\"a\")\n",
    "b = a\n",
    "del a #deleting a doesn't delete object"
   ]
  },
  {
   "cell_type": "code",
   "execution_count": 29,
   "metadata": {},
   "outputs": [
    {
     "name": "stdout",
     "output_type": "stream",
     "text": [
      "Test instance a is getting garbage collected..\n"
     ]
    }
   ],
   "source": [
    "del b #after deleting b it is getting garbage collected, because now reference count is zero"
   ]
  },
  {
   "cell_type": "code",
   "execution_count": 31,
   "metadata": {},
   "outputs": [
    {
     "name": "stdout",
     "output_type": "stream",
     "text": [
      "Test instance a is getting garbage collected..\n"
     ]
    }
   ],
   "source": [
    "a = Test(\"a\")\n",
    "b = a\n",
    "b = \"\"\n",
    "a = \"\"\n",
    "# when you a and b pointing to empty string, so reference count is 0 it will get garbage collected"
   ]
  },
  {
   "cell_type": "code",
   "execution_count": 32,
   "metadata": {
    "collapsed": true
   },
   "outputs": [],
   "source": [
    "# if you are using external libraries you should know when object is grabage collected, you cannot use __del__ because\n",
    "# it for those who code that class"
   ]
  },
  {
   "cell_type": "code",
   "execution_count": 37,
   "metadata": {},
   "outputs": [
    {
     "name": "stdout",
     "output_type": "stream",
     "text": [
      "byee..\n"
     ]
    },
    {
     "ename": "TypeError",
     "evalue": "cannot create weak reference to 'list' object",
     "output_type": "error",
     "traceback": [
      "\u001b[1;31m---------------------------------------------------------------------------\u001b[0m",
      "\u001b[1;31mTypeError\u001b[0m                                 Traceback (most recent call last)",
      "\u001b[1;32m<ipython-input-37-9035c8083310>\u001b[0m in \u001b[0;36m<module>\u001b[1;34m()\u001b[0m\n\u001b[0;32m      3\u001b[0m     \u001b[0mprint\u001b[0m\u001b[1;33m(\u001b[0m\u001b[1;34m\"byee..\"\u001b[0m\u001b[1;33m)\u001b[0m\u001b[1;33m\u001b[0m\u001b[0m\n\u001b[0;32m      4\u001b[0m \u001b[0ml1\u001b[0m \u001b[1;33m=\u001b[0m \u001b[1;33m[\u001b[0m\u001b[1;36m1\u001b[0m\u001b[1;33m,\u001b[0m\u001b[1;36m2\u001b[0m\u001b[1;33m,\u001b[0m\u001b[1;36m3\u001b[0m\u001b[1;33m]\u001b[0m\u001b[1;33m\u001b[0m\u001b[0m\n\u001b[1;32m----> 5\u001b[1;33m \u001b[0me\u001b[0m \u001b[1;33m=\u001b[0m \u001b[0mweakref\u001b[0m\u001b[1;33m.\u001b[0m\u001b[0mfinalize\u001b[0m\u001b[1;33m(\u001b[0m\u001b[0ml1\u001b[0m\u001b[1;33m,\u001b[0m\u001b[0mbye\u001b[0m\u001b[1;33m)\u001b[0m\u001b[1;33m\u001b[0m\u001b[0m\n\u001b[0m\u001b[0;32m      6\u001b[0m \u001b[0mprint\u001b[0m\u001b[1;33m(\u001b[0m\u001b[0me\u001b[0m\u001b[1;33m.\u001b[0m\u001b[0malive\u001b[0m\u001b[1;33m)\u001b[0m\u001b[1;33m\u001b[0m\u001b[0m\n",
      "\u001b[1;32mC:\\Users\\vikramaditya\\Anaconda3\\lib\\weakref.py\u001b[0m in \u001b[0;36m__init__\u001b[1;34m(self, obj, func, *args, **kwargs)\u001b[0m\n\u001b[0;32m    532\u001b[0m             \u001b[0mfinalize\u001b[0m\u001b[1;33m.\u001b[0m\u001b[0m_registered_with_atexit\u001b[0m \u001b[1;33m=\u001b[0m \u001b[1;32mTrue\u001b[0m\u001b[1;33m\u001b[0m\u001b[0m\n\u001b[0;32m    533\u001b[0m         \u001b[0minfo\u001b[0m \u001b[1;33m=\u001b[0m \u001b[0mself\u001b[0m\u001b[1;33m.\u001b[0m\u001b[0m_Info\u001b[0m\u001b[1;33m(\u001b[0m\u001b[1;33m)\u001b[0m\u001b[1;33m\u001b[0m\u001b[0m\n\u001b[1;32m--> 534\u001b[1;33m         \u001b[0minfo\u001b[0m\u001b[1;33m.\u001b[0m\u001b[0mweakref\u001b[0m \u001b[1;33m=\u001b[0m \u001b[0mref\u001b[0m\u001b[1;33m(\u001b[0m\u001b[0mobj\u001b[0m\u001b[1;33m,\u001b[0m \u001b[0mself\u001b[0m\u001b[1;33m)\u001b[0m\u001b[1;33m\u001b[0m\u001b[0m\n\u001b[0m\u001b[0;32m    535\u001b[0m         \u001b[0minfo\u001b[0m\u001b[1;33m.\u001b[0m\u001b[0mfunc\u001b[0m \u001b[1;33m=\u001b[0m \u001b[0mfunc\u001b[0m\u001b[1;33m\u001b[0m\u001b[0m\n\u001b[0;32m    536\u001b[0m         \u001b[0minfo\u001b[0m\u001b[1;33m.\u001b[0m\u001b[0margs\u001b[0m \u001b[1;33m=\u001b[0m \u001b[0margs\u001b[0m\u001b[1;33m\u001b[0m\u001b[0m\n",
      "\u001b[1;31mTypeError\u001b[0m: cannot create weak reference to 'list' object"
     ]
    }
   ],
   "source": [
    "import weakref\n",
    "def bye():\n",
    "    print(\"byee..\")\n",
    "l1 = [1,2,3]\n",
    "e = weakref.finalize(l1,bye)\n",
    "print(e.alive)"
   ]
  },
  {
   "cell_type": "code",
   "execution_count": 42,
   "metadata": {},
   "outputs": [
    {
     "name": "stdout",
     "output_type": "stream",
     "text": [
      "True\n"
     ]
    }
   ],
   "source": [
    "l3 = {1,2,3}\n",
    "e = weakref.finalize(l3,bye)\n",
    "print(e.alive)\n",
    "# i dont know why it work for tuples but not lists"
   ]
  },
  {
   "cell_type": "code",
   "execution_count": 43,
   "metadata": {},
   "outputs": [
    {
     "name": "stdout",
     "output_type": "stream",
     "text": [
      "byee..\n"
     ]
    }
   ],
   "source": [
    "l3 = {1,2}"
   ]
  },
  {
   "cell_type": "raw",
   "metadata": {},
   "source": [
    "=====================>>>>>>>>> Lets understand weakreferences in python <<<<<<<<================="
   ]
  },
  {
   "cell_type": "raw",
   "metadata": {},
   "source": [
    "Weak reference doesn't increase the reference count of the algorithm, so it will not be consider while doing garbage collection"
   ]
  },
  {
   "cell_type": "code",
   "execution_count": 46,
   "metadata": {},
   "outputs": [
    {
     "data": {
      "text/plain": [
       "{1, 2, 3, 4}"
      ]
     },
     "execution_count": 46,
     "metadata": {},
     "output_type": "execute_result"
    }
   ],
   "source": [
    "s1 = {1,2,3,4}\n",
    "wref = weakref.ref(s1)\n",
    "wref() #when you call wref() it will return the reference of the object,"
   ]
  },
  {
   "cell_type": "code",
   "execution_count": 47,
   "metadata": {
    "collapsed": true
   },
   "outputs": [],
   "source": [
    "# lets see though it is reference still we can do garbage collectio\n",
    "s1 = \"\""
   ]
  },
  {
   "cell_type": "raw",
   "metadata": {},
   "source": [
    "=========>>>>> Trick Python Plays with immutables <<<<<<<<<==============="
   ]
  },
  {
   "cell_type": "code",
   "execution_count": 56,
   "metadata": {},
   "outputs": [
    {
     "name": "stdout",
     "output_type": "stream",
     "text": [
      "2400573598240\n",
      "2400573598240\n",
      "2400573598240\n"
     ]
    }
   ],
   "source": [
    "a = (1,2,3)\n",
    "b = tuple(a)\n",
    "c = a[:]\n",
    "print(id(a))\n",
    "print(id(b))\n",
    "print(id(c))"
   ]
  },
  {
   "cell_type": "raw",
   "metadata": {},
   "source": [
    "if you see lists it will do atleast a shallow copy but for tuples as they are immutables it is returning same object\n",
    "same applies for str and frozenset"
   ]
  },
  {
   "cell_type": "code",
   "execution_count": 57,
   "metadata": {},
   "outputs": [
    {
     "name": "stdout",
     "output_type": "stream",
     "text": [
      "2400573597376\n",
      "2400573577400\n"
     ]
    }
   ],
   "source": [
    "a = (1,2,3)\n",
    "b = (1,2,3)\n",
    "print(id(a))\n",
    "print(id(b))\n",
    "# both ids are different both have different address location"
   ]
  },
  {
   "cell_type": "code",
   "execution_count": 59,
   "metadata": {},
   "outputs": [
    {
     "name": "stdout",
     "output_type": "stream",
     "text": [
      "2400500950384\n",
      "2400500950384\n"
     ]
    }
   ],
   "source": [
    "a = \"ABC\"\n",
    "b = \"ABC\"\n",
    "print(id(a))\n",
    "print(id(b))\n",
    "#both ids are same because as internal optimization for strings and numbers instead of creating new object it will use the same\n",
    "#like string pool in java, in python this is called interning but it doesn't guarentee it will do for string"
   ]
  },
  {
   "cell_type": "raw",
   "metadata": {},
   "source": [
    "=======================>>> End of Section <<<============================="
   ]
  },
  {
   "cell_type": "code",
   "execution_count": null,
   "metadata": {
    "collapsed": true
   },
   "outputs": [],
   "source": []
  }
 ],
 "metadata": {
  "kernelspec": {
   "display_name": "Python 3",
   "language": "python",
   "name": "python3"
  },
  "language_info": {
   "codemirror_mode": {
    "name": "ipython",
    "version": 3
   },
   "file_extension": ".py",
   "mimetype": "text/x-python",
   "name": "python",
   "nbconvert_exporter": "python",
   "pygments_lexer": "ipython3",
   "version": "3.6.1"
  }
 },
 "nbformat": 4,
 "nbformat_minor": 2
}
