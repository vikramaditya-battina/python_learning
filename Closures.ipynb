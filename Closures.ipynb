{
 "cells": [
  {
   "cell_type": "raw",
   "metadata": {},
   "source": [
    "=============>>>>>>>>>>>> Understanding Scope <<<<<<<<<<<<<<<<<<================================"
   ]
  },
  {
   "cell_type": "code",
   "execution_count": 3,
   "metadata": {},
   "outputs": [
    {
     "name": "stdout",
     "output_type": "stream",
     "text": [
      "2\n",
      "6\n"
     ]
    }
   ],
   "source": [
    "b = 6\n",
    "def f1():\n",
    "    a = 2\n",
    "    print(a)\n",
    "    print(b)\n",
    "f1()\n",
    "#cool this function worked as expected"
   ]
  },
  {
   "cell_type": "code",
   "execution_count": 6,
   "metadata": {},
   "outputs": [
    {
     "name": "stdout",
     "output_type": "stream",
     "text": [
      "2\n"
     ]
    },
    {
     "ename": "UnboundLocalError",
     "evalue": "local variable 'b' referenced before assignment",
     "output_type": "error",
     "traceback": [
      "\u001b[1;31m---------------------------------------------------------------------------\u001b[0m",
      "\u001b[1;31mUnboundLocalError\u001b[0m                         Traceback (most recent call last)",
      "\u001b[1;32m<ipython-input-6-e434c7609b40>\u001b[0m in \u001b[0;36m<module>\u001b[1;34m()\u001b[0m\n\u001b[0;32m      5\u001b[0m     \u001b[0mprint\u001b[0m\u001b[1;33m(\u001b[0m\u001b[0mb\u001b[0m\u001b[1;33m)\u001b[0m\u001b[1;33m\u001b[0m\u001b[0m\n\u001b[0;32m      6\u001b[0m     \u001b[0mb\u001b[0m \u001b[1;33m=\u001b[0m \u001b[1;36m9\u001b[0m\u001b[1;33m\u001b[0m\u001b[0m\n\u001b[1;32m----> 7\u001b[1;33m \u001b[0mf2\u001b[0m\u001b[1;33m(\u001b[0m\u001b[1;33m)\u001b[0m\u001b[1;33m\u001b[0m\u001b[0m\n\u001b[0m\u001b[0;32m      8\u001b[0m \u001b[1;31m# see this throwed an error, but we think b will be printed as 6 because it globally defined\u001b[0m\u001b[1;33m\u001b[0m\u001b[1;33m\u001b[0m\u001b[0m\n\u001b[0;32m      9\u001b[0m \u001b[1;31m##### Lets Anaylyse why it doesn't work\u001b[0m\u001b[1;33m\u001b[0m\u001b[1;33m\u001b[0m\u001b[0m\n",
      "\u001b[1;32m<ipython-input-6-e434c7609b40>\u001b[0m in \u001b[0;36mf2\u001b[1;34m()\u001b[0m\n\u001b[0;32m      3\u001b[0m     \u001b[0ma\u001b[0m \u001b[1;33m=\u001b[0m \u001b[1;36m2\u001b[0m\u001b[1;33m\u001b[0m\u001b[0m\n\u001b[0;32m      4\u001b[0m     \u001b[0mprint\u001b[0m\u001b[1;33m(\u001b[0m\u001b[0ma\u001b[0m\u001b[1;33m)\u001b[0m\u001b[1;33m\u001b[0m\u001b[0m\n\u001b[1;32m----> 5\u001b[1;33m     \u001b[0mprint\u001b[0m\u001b[1;33m(\u001b[0m\u001b[0mb\u001b[0m\u001b[1;33m)\u001b[0m\u001b[1;33m\u001b[0m\u001b[0m\n\u001b[0m\u001b[0;32m      6\u001b[0m     \u001b[0mb\u001b[0m \u001b[1;33m=\u001b[0m \u001b[1;36m9\u001b[0m\u001b[1;33m\u001b[0m\u001b[0m\n\u001b[0;32m      7\u001b[0m \u001b[0mf2\u001b[0m\u001b[1;33m(\u001b[0m\u001b[1;33m)\u001b[0m\u001b[1;33m\u001b[0m\u001b[0m\n",
      "\u001b[1;31mUnboundLocalError\u001b[0m: local variable 'b' referenced before assignment"
     ]
    }
   ],
   "source": [
    "b = 6\n",
    "def f2():\n",
    "    a = 2\n",
    "    print(a)\n",
    "    print(b)\n",
    "    b = 9\n",
    "f2()\n",
    "# see this throwed an error, but we think b will be printed as 6 because it globally defined\n",
    "##### Lets Anaylyse why it doesn't work\n",
    "# 1--->> when function is compiled in python it will load all local variables as theres is b = 9 compiler assumed \n",
    "         #it is a local variable(we can explicilty define b is global) so compiler assumed b,a is local variables\n",
    "# 2 -->> when it try to execute print(b) it tries to fetch value of b, since there is no value assigned to b(unbounded)\n",
    "         #it throwed an error"
   ]
  },
  {
   "cell_type": "code",
   "execution_count": 8,
   "metadata": {},
   "outputs": [
    {
     "name": "stdout",
     "output_type": "stream",
     "text": [
      "2\n",
      "6\n"
     ]
    }
   ],
   "source": [
    "#solution to above problem define explicilty global\n",
    "b = 6\n",
    "def f3():\n",
    "    a = 2\n",
    "    global b\n",
    "    print(a)\n",
    "    print(b)\n",
    "    b = 9\n",
    "f3()"
   ]
  },
  {
   "cell_type": "raw",
   "metadata": {},
   "source": [
    "=================>>>>>>>>>>> End of Understanding Scope and Variables <<<<<<<<<<<<<<<========================="
   ]
  },
  {
   "cell_type": "raw",
   "metadata": {},
   "source": [
    "=================>>>>>>>>>>>  Lets do Closure    <<<<<<<<<<<<<<==================================="
   ]
  },
  {
   "cell_type": "raw",
   "metadata": {},
   "source": [
    "Lets write a callable function which will average on consecutive calls"
   ]
  },
  {
   "cell_type": "code",
   "execution_count": 11,
   "metadata": {},
   "outputs": [
    {
     "name": "stdout",
     "output_type": "stream",
     "text": [
      "10.0\n",
      "10.5\n",
      "11.0\n"
     ]
    }
   ],
   "source": [
    "class MakeAverage:\n",
    "    def __init__(self):\n",
    "        self.series = []\n",
    "    \n",
    "    def __call__(self,val):\n",
    "        self.series.append(val)\n",
    "        return sum(self.series)/len(self.series)\n",
    "average = MakeAverage()\n",
    "print(average(10))\n",
    "print(average(11))\n",
    "print(average(12))"
   ]
  },
  {
   "cell_type": "raw",
   "metadata": {},
   "source": [
    "###### Lets build same stuff using closures ##############"
   ]
  },
  {
   "cell_type": "code",
   "execution_count": 13,
   "metadata": {},
   "outputs": [
    {
     "name": "stdout",
     "output_type": "stream",
     "text": [
      "10.0\n",
      "10.5\n",
      "11.0\n"
     ]
    }
   ],
   "source": [
    "def Averager():\n",
    "    series = []\n",
    "    def average(n):\n",
    "        series.append(n)\n",
    "        return sum(series)/len(series)\n",
    "    return average\n",
    "avg = Averager()\n",
    "print(avg(10))\n",
    "print(avg(11))\n",
    "print(avg(12))"
   ]
  },
  {
   "cell_type": "raw",
   "metadata": {},
   "source": [
    "# In Above we have 3 types of variables one is local variables which belong to the scope of the function,\n",
    "and another is free variables, which belong to closure, and another is global variables\n",
    "In Above series is a free variables"
   ]
  },
  {
   "cell_type": "code",
   "execution_count": 24,
   "metadata": {},
   "outputs": [
    {
     "name": "stdout",
     "output_type": "stream",
     "text": [
      "average\n",
      "('n',)\n",
      "('series',)\n",
      "1\n",
      "<cell at 0x000001C653C800D8: list object at 0x000001C653D1ACC8>\n",
      "None\n"
     ]
    }
   ],
   "source": [
    "print(avg.__name__) # avg is a function points to another average function which returned\n",
    "print(avg.__code__.co_varnames)\n",
    "print(avg.__code__.co_freevars)\n",
    "print(avg.__code__.co_argcount)\n",
    "print(avg.__closure__[0]) # don't know what does it mean\n",
    "print(avg.__defaults__) # if there are default variables\n",
    "# see in below output series is free variables"
   ]
  },
  {
   "cell_type": "raw",
   "metadata": {},
   "source": [
    "##### Lets try to write in a elegant way, as we are doing averge we dont need to maintain list, if we maintain only total,\n",
    "and count thats good"
   ]
  },
  {
   "cell_type": "code",
   "execution_count": 25,
   "metadata": {
    "collapsed": true
   },
   "outputs": [],
   "source": [
    "def Opt_Averager():\n",
    "    total = 0\n",
    "    count = 0\n",
    "    def average(n):\n",
    "        total+=n\n",
    "        count+=1\n",
    "        return total/count\n",
    "    return average"
   ]
  },
  {
   "cell_type": "code",
   "execution_count": 29,
   "metadata": {},
   "outputs": [
    {
     "name": "stdout",
     "output_type": "stream",
     "text": [
      "('n', 'total', 'count')\n"
     ]
    },
    {
     "ename": "AttributeError",
     "evalue": "'code' object has no attribute 'co_freevarse'",
     "output_type": "error",
     "traceback": [
      "\u001b[1;31m---------------------------------------------------------------------------\u001b[0m",
      "\u001b[1;31mAttributeError\u001b[0m                            Traceback (most recent call last)",
      "\u001b[1;32m<ipython-input-29-d9f190d2024e>\u001b[0m in \u001b[0;36m<module>\u001b[1;34m()\u001b[0m\n\u001b[0;32m      2\u001b[0m \u001b[0mavg\u001b[0m \u001b[1;33m=\u001b[0m \u001b[0mOpt_Averager\u001b[0m\u001b[1;33m(\u001b[0m\u001b[1;33m)\u001b[0m\u001b[1;33m\u001b[0m\u001b[0m\n\u001b[0;32m      3\u001b[0m \u001b[0mprint\u001b[0m\u001b[1;33m(\u001b[0m\u001b[0mavg\u001b[0m\u001b[1;33m.\u001b[0m\u001b[0m__code__\u001b[0m\u001b[1;33m.\u001b[0m\u001b[0mco_varnames\u001b[0m\u001b[1;33m)\u001b[0m \u001b[1;31m#see compiler thought total count as local variable\u001b[0m\u001b[1;33m\u001b[0m\u001b[0m\n\u001b[1;32m----> 4\u001b[1;33m \u001b[0mprint\u001b[0m\u001b[1;33m(\u001b[0m\u001b[0mavg\u001b[0m\u001b[1;33m.\u001b[0m\u001b[0m__code__\u001b[0m\u001b[1;33m.\u001b[0m\u001b[0mco_freevarse\u001b[0m\u001b[1;33m)\u001b[0m \u001b[1;31m#see compiler\u001b[0m\u001b[1;33m\u001b[0m\u001b[0m\n\u001b[0m\u001b[0;32m      5\u001b[0m \u001b[0mavg\u001b[0m\u001b[1;33m(\u001b[0m\u001b[1;36m10\u001b[0m\u001b[1;33m)\u001b[0m\u001b[1;33m\u001b[0m\u001b[0m\n",
      "\u001b[1;31mAttributeError\u001b[0m: 'code' object has no attribute 'co_freevarse'"
     ]
    }
   ],
   "source": [
    "# In above cell we defined the closure function with total and count as free variables\n",
    "avg = Opt_Averager()\n",
    "print(avg.__code__.co_varnames) #see compiler thought total count as local variable\n",
    "print(avg.__code__.co_freevarse) #see compiler \n",
    "avg(10)"
   ]
  },
  {
   "cell_type": "raw",
   "metadata": {},
   "source": [
    "# Ideally we expect that function would work normally but it throwed an error, below is anyalsis\n",
    "  In above count is unmutable variable so as there is assingment compiler thought it is local variable, and throw error because\n",
    "  using total = total + num, before assigning values"
   ]
  },
  {
   "cell_type": "code",
   "execution_count": 30,
   "metadata": {
    "collapsed": true
   },
   "outputs": [],
   "source": [
    "# Till pyton 2 we can only use unmutables free variables as read only\n",
    "# But in python 3 they introduced a new type called nonlocal which says that variable is free variable\n",
    "############>>>>>>>>>>>>>> So Lets learn about nonlocal keyword <<<<<<<<<###################"
   ]
  },
  {
   "cell_type": "code",
   "execution_count": 33,
   "metadata": {},
   "outputs": [
    {
     "name": "stdout",
     "output_type": "stream",
     "text": [
      "10.0\n",
      "10.5\n",
      "11.0\n",
      "('n',)\n",
      "('count', 'total')\n"
     ]
    }
   ],
   "source": [
    "def newOpt_averager():\n",
    "    total = 0\n",
    "    count = 0\n",
    "    def average(n):\n",
    "        nonlocal total, count\n",
    "        total += n\n",
    "        count += 1\n",
    "        return total/count\n",
    "    return average\n",
    "avg = newOpt_averager()\n",
    "print(avg(10))\n",
    "print(avg(11))\n",
    "print(avg(12))\n",
    "print(avg.__code__.co_varnames)\n",
    "print(avg.__code__.co_freevars)"
   ]
  },
  {
   "cell_type": "code",
   "execution_count": 35,
   "metadata": {
    "collapsed": true
   },
   "outputs": [],
   "source": [
    "#this is my explanation why closures is if you want to remember information accross function calls, we can use closures"
   ]
  },
  {
   "cell_type": "code",
   "execution_count": 36,
   "metadata": {},
   "outputs": [
    {
     "name": "stdout",
     "output_type": "stream",
     "text": [
      "10.0\n",
      "10.5\n"
     ]
    }
   ],
   "source": [
    "# you may get doubt if nonlocal is introduced in python 3 do they people solved this kind of problems in python 2, \n",
    "# its very simple they add a single number in list and solved it\n",
    "def python2_make_averager():\n",
    "    total = [0]\n",
    "    count = [0]\n",
    "    def average(n):\n",
    "        total[0]+=n\n",
    "        count[0]+=1\n",
    "        return total[0]/count[0]\n",
    "    return average\n",
    "avg = python2_make_averager()\n",
    "print(avg(10))\n",
    "print(avg(11))"
   ]
  },
  {
   "cell_type": "code",
   "execution_count": null,
   "metadata": {
    "collapsed": true
   },
   "outputs": [],
   "source": []
  }
 ],
 "metadata": {
  "kernelspec": {
   "display_name": "Python 3",
   "language": "python",
   "name": "python3"
  },
  "language_info": {
   "codemirror_mode": {
    "name": "ipython",
    "version": 3
   },
   "file_extension": ".py",
   "mimetype": "text/x-python",
   "name": "python",
   "nbconvert_exporter": "python",
   "pygments_lexer": "ipython3",
   "version": "3.6.1"
  }
 },
 "nbformat": 4,
 "nbformat_minor": 2
}
