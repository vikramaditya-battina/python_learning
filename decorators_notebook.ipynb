{
 "cells": [
  {
   "cell_type": "markdown",
   "metadata": {},
   "source": [
    "## Decorators are wrapper functions just look at some examples"
   ]
  },
  {
   "cell_type": "raw",
   "metadata": {},
   "source": [
    "Decorators will run when function is loaded or imported"
   ]
  },
  {
   "cell_type": "code",
   "execution_count": 16,
   "metadata": {
    "collapsed": true
   },
   "outputs": [],
   "source": [
    "def my_first_decarator(func):\n",
    "    print(\"I think the decorator will replace the replace the given function with wrapper function\")\n",
    "    print(\"Decorator will be called the moment we use the @decorator\")\n",
    "    def wrapper():\n",
    "        print(\"Before executing the func\")\n",
    "        func()\n",
    "        print(\"After Executing the func\")\n",
    "    return wrapper "
   ]
  },
  {
   "cell_type": "code",
   "execution_count": 17,
   "metadata": {},
   "outputs": [
    {
     "name": "stdout",
     "output_type": "stream",
     "text": [
      "I think the decorator will replace the replace the given function with wrapper function\n",
      "Decorator will be called the moment we use the @decorator\n"
     ]
    }
   ],
   "source": [
    "@my_first_decarator\n",
    "def print_hello_world():\n",
    "    print(\"Hello world\")\n"
   ]
  },
  {
   "cell_type": "code",
   "execution_count": 18,
   "metadata": {},
   "outputs": [
    {
     "name": "stdout",
     "output_type": "stream",
     "text": [
      "Before executing the func\n",
      "Hello world\n",
      "After Executing the func\n"
     ]
    }
   ],
   "source": [
    "print_hello_world()"
   ]
  },
  {
   "cell_type": "markdown",
   "metadata": {},
   "source": [
    "## Let us understand decorators with params"
   ]
  },
  {
   "cell_type": "code",
   "execution_count": 58,
   "metadata": {
    "collapsed": true
   },
   "outputs": [],
   "source": [
    "#first argument is always the function name\n",
    "def param_decorator(param1, param2):\n",
    "    print(\"First call to the param decorator\")\n",
    "    def real_param_decorator(func):\n",
    "        print(\"Second call to the real param decorator\")\n",
    "        def wrapper(a):\n",
    "            print(\"Printing the args\")\n",
    "            return func(a)\n",
    "            print(\"Done with function execution\")\n",
    "        return wrapper\n",
    "    return real_param_decorator"
   ]
  },
  {
   "cell_type": "code",
   "execution_count": 59,
   "metadata": {},
   "outputs": [
    {
     "name": "stdout",
     "output_type": "stream",
     "text": [
      "First call to the param decorator\n",
      "Second call to the real param decorator\n"
     ]
    }
   ],
   "source": [
    "@param_decorator(12,12)\n",
    "def square(a):\n",
    "    return a*a"
   ]
  },
  {
   "cell_type": "code",
   "execution_count": 60,
   "metadata": {},
   "outputs": [
    {
     "name": "stdout",
     "output_type": "stream",
     "text": [
      "Printing the args\n"
     ]
    },
    {
     "data": {
      "text/plain": [
       "144"
      ]
     },
     "execution_count": 60,
     "metadata": {},
     "output_type": "execute_result"
    }
   ],
   "source": [
    "square(12)"
   ]
  },
  {
   "cell_type": "markdown",
   "metadata": {},
   "source": [
    "## Building simple route app like stuff"
   ]
  },
  {
   "cell_type": "code",
   "execution_count": 2,
   "metadata": {
    "collapsed": true
   },
   "outputs": [],
   "source": [
    "map = {}\n",
    "def route(key):\n",
    "    def real_router(func):\n",
    "        map[key] = func\n",
    "        def wrapper():\n",
    "            return func()\n",
    "        return wrapper\n",
    "    return real_router\n",
    "def execute(param):\n",
    "    map[param]()"
   ]
  },
  {
   "cell_type": "code",
   "execution_count": 3,
   "metadata": {
    "collapsed": true
   },
   "outputs": [],
   "source": [
    "@route(\"addition\")\n",
    "def add():\n",
    "    print(\"I am addition\")\n",
    "\n",
    "@route(\"multiplication\")\n",
    "def church():\n",
    "    print(\"I am multiplication\")\n",
    "    \n",
    "@route(\"substraction\")\n",
    "def batting():\n",
    "    print(\"I am substraction\")\n"
   ]
  },
  {
   "cell_type": "code",
   "execution_count": 4,
   "metadata": {},
   "outputs": [
    {
     "name": "stdout",
     "output_type": "stream",
     "text": [
      "I am addition\n"
     ]
    }
   ],
   "source": [
    "execute(\"addition\")"
   ]
  },
  {
   "cell_type": "code",
   "execution_count": 5,
   "metadata": {},
   "outputs": [
    {
     "name": "stdout",
     "output_type": "stream",
     "text": [
      "I am multiplication\n"
     ]
    }
   ],
   "source": [
    "execute(\"multiplication\")"
   ]
  },
  {
   "cell_type": "code",
   "execution_count": 6,
   "metadata": {},
   "outputs": [
    {
     "name": "stdout",
     "output_type": "stream",
     "text": [
      "I am substraction\n"
     ]
    }
   ],
   "source": [
    "execute(\"substraction\")"
   ]
  },
  {
   "cell_type": "raw",
   "metadata": {
    "collapsed": true
   },
   "source": [
    "Final remarks on decorators\n",
    "1 -->> with decorators you might loose func.__name__ attribute and func.__doc__ which are important so functools.wrap decorator \n",
    "       prevents it\n",
    "2 -->> you can use functools.lrucache to memoize between function calls"
   ]
  },
  {
   "cell_type": "code",
   "execution_count": null,
   "metadata": {
    "collapsed": true
   },
   "outputs": [],
   "source": []
  }
 ],
 "metadata": {
  "kernelspec": {
   "display_name": "Python 3",
   "language": "python",
   "name": "python3"
  },
  "language_info": {
   "codemirror_mode": {
    "name": "ipython",
    "version": 3
   },
   "file_extension": ".py",
   "mimetype": "text/x-python",
   "name": "python",
   "nbconvert_exporter": "python",
   "pygments_lexer": "ipython3",
   "version": "3.6.1"
  }
 },
 "nbformat": 4,
 "nbformat_minor": 2
}
