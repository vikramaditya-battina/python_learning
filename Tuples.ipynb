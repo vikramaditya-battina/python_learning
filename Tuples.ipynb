{
 "cells": [
  {
   "cell_type": "code",
   "execution_count": 1,
   "metadata": {
    "collapsed": true
   },
   "outputs": [],
   "source": [
    "#tuples are used as two types in python community\n",
    "# 1-> Immutable lists\n",
    "# 2-> to store data with out field names\n",
    "# we can say tuple as a record"
   ]
  },
  {
   "cell_type": "code",
   "execution_count": 2,
   "metadata": {
    "collapsed": true
   },
   "outputs": [],
   "source": [
    "lax_coordinates = (33.9425, -118.408056) \n",
    "city, year, pop, chg, area = ('Tokyo', 2003, 32450, 0.66, 8014)\n",
    "traveler_ids = [('USA', '31195855'), ('BRA', 'CE342567'),('ESP', 'XDA205856')]"
   ]
  },
  {
   "cell_type": "markdown",
   "metadata": {},
   "source": [
    "## tuple unpacking"
   ]
  },
  {
   "cell_type": "code",
   "execution_count": 18,
   "metadata": {},
   "outputs": [
    {
     "name": "stdout",
     "output_type": "stream",
     "text": [
      "1 2\n",
      "4 5\n"
     ]
    }
   ],
   "source": [
    "#this kind of unpacking works for iterable objects as well\n",
    "a,b = (1,2)\n",
    "print(a,b)\n",
    "a,b = [4,5]\n",
    "print(a,b)"
   ]
  },
  {
   "cell_type": "code",
   "execution_count": 19,
   "metadata": {
    "collapsed": true
   },
   "outputs": [],
   "source": [
    "#swaping without using temp variables\n",
    "a, b = b, a"
   ]
  },
  {
   "cell_type": "code",
   "execution_count": 20,
   "metadata": {},
   "outputs": [
    {
     "name": "stdout",
     "output_type": "stream",
     "text": [
      "5 4\n"
     ]
    }
   ],
   "source": [
    "print(a,b)"
   ]
  },
  {
   "cell_type": "code",
   "execution_count": 21,
   "metadata": {},
   "outputs": [
    {
     "name": "stdout",
     "output_type": "stream",
     "text": [
      "india\n"
     ]
    }
   ],
   "source": [
    "#using dummy varible if you dont need that, like a throw away variable\n",
    "country, _ = ('india','vikram')\n",
    "print(country)"
   ]
  },
  {
   "cell_type": "code",
   "execution_count": 22,
   "metadata": {},
   "outputs": [
    {
     "data": {
      "text/plain": [
       "5"
      ]
     },
     "execution_count": 22,
     "metadata": {},
     "output_type": "execute_result"
    }
   ],
   "source": [
    "sum = lambda x,y: x+y\n",
    "sum(2,3)\n",
    "a = (2,3)\n",
    "sum(*a)"
   ]
  },
  {
   "cell_type": "code",
   "execution_count": 27,
   "metadata": {},
   "outputs": [
    {
     "name": "stdout",
     "output_type": "stream",
     "text": [
      "0\n",
      "1\n",
      "[2, 3, 4, 5, 6, 7, 8, 9]\n",
      "0\n",
      "[1, 2, 3, 4, 5, 6, 7, 8]\n",
      "9\n"
     ]
    }
   ],
   "source": [
    "#grabing rest using * \n",
    "a,b,*c = list(range(10))\n",
    "print(a)\n",
    "print(b)\n",
    "print(c)\n",
    "a,*b,c = list(range(10))\n",
    "print(a)\n",
    "print(b)\n",
    "print(c)"
   ]
  },
  {
   "cell_type": "code",
   "execution_count": 28,
   "metadata": {},
   "outputs": [
    {
     "ename": "SyntaxError",
     "evalue": "invalid syntax (<ipython-input-28-f338c3812a77>, line 1)",
     "output_type": "error",
     "traceback": [
      "\u001b[1;36m  File \u001b[1;32m\"<ipython-input-28-f338c3812a77>\"\u001b[1;36m, line \u001b[1;32m1\u001b[0m\n\u001b[1;33m    method list tuple desc\u001b[0m\n\u001b[1;37m              ^\u001b[0m\n\u001b[1;31mSyntaxError\u001b[0m\u001b[1;31m:\u001b[0m invalid syntax\n"
     ]
    }
   ],
   "source": [
    "method list tuple desc \n",
    "s.__add__(s2) ● ● s + s2 — concatenation\n",
    "s.__iadd__(s2) ● s += s2 — in-place concatenation\n",
    "s.append(e) ● append one element after last\n",
    "s.clear() ● delete all items\n",
    "s.__contains__(e) ● ● e in s\n",
    "s.copy() ● shallow copy of the list\n",
    "s.count(e) ● ● count occurrences of an element\n",
    "s.__delitem__(p) ● remove item at position p\n",
    "s.extend(it) ● append items from iterable it\n",
    "s.__getitem__(p) ● ● s[p] — get item at position\n",
    "s.__getnewargs__() ● support for optimized serialization with pickle\n",
    "s.index(e) ● ● find position of first occurrence of e\n",
    "s.insert(p, e) ● insert element e before the item at position p\n",
    "s.__iter__() ● ● get iterator\n",
    "s.__len__() ● ● len(s) — number of items\n",
    "s.__mul__(n) ● ● s * n — repeated concatenation\n",
    "s.__imul__(n) ● s *= n — in-place repeated concatenation\n",
    "s.__rmul__(n) ● ● n * s — reversed repeated concatenationa"
   ]
  },
  {
   "cell_type": "code",
   "execution_count": null,
   "metadata": {
    "collapsed": true
   },
   "outputs": [],
   "source": []
  }
 ],
 "metadata": {
  "kernelspec": {
   "display_name": "Python 3",
   "language": "python",
   "name": "python3"
  },
  "language_info": {
   "codemirror_mode": {
    "name": "ipython",
    "version": 3
   },
   "file_extension": ".py",
   "mimetype": "text/x-python",
   "name": "python",
   "nbconvert_exporter": "python",
   "pygments_lexer": "ipython3",
   "version": "3.6.1"
  }
 },
 "nbformat": 4,
 "nbformat_minor": 2
}
